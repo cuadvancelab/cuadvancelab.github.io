{
  "cells": [
    {
      "cell_type": "markdown",
      "metadata": {
        "id": "zCxQyK2g_2Jj"
      },
      "source": [
        "# Lab 2 AI for Multimodal Cyberharassment Detection\n",
        "\n"
      ]
    },
    {
      "attachments": {},
      "cell_type": "markdown",
      "metadata": {
        "id": "t9ZCA9FpFasW"
      },
      "source": [
        "With previous lab learning, you should have some knowledge about how to develop an AI model to detect cyberbullying lauguage. In this lab, we will keep learning how AI can be developed to detect cyberbullying. We will use a publicly available test dataset of cyberbullying images, and deploy an pre-trained AI model to automatically detect cyberbullying images. \n",
        "Approach towards analysing the cyber bullying in images in a dataset, there are three steps: \n",
        "1. Understand and identify the factors related to cyberbullying in images. \n",
        "2. Load the pre-trained model.\n",
        "3. Fine-tune the model with a small dataset.\n",
        "3. Evaluate the pre-trained model and your fine-tuned model with the same test dataset.\n",
        " - Get the results of accuracy, precision, recall and F1-score\n",
        " - plot out the confusion matrix figure"
      ]
    },
    {
      "cell_type": "markdown",
      "metadata": {
        "id": "lR_dMOJ3HJ21"
      },
      "source": [
        "## Download the pre-trained model, test dataset and the dependencies"
      ]
    },
    {
      "cell_type": "markdown",
      "metadata": {
        "id": "NuE3371lG783"
      },
      "source": [
        "First, we need to download the pre-trained model and the test dataset used in the lab. Just hit the 'play' button run the code below."
      ]
    },
    {
      "cell_type": "code",
      "execution_count": null,
      "metadata": {
        "colab": {
          "base_uri": "https://localhost:8080/"
        },
        "id": "Er3ZmAJoRZcL",
        "outputId": "e969d8a2-dffb-4f9d-a891-5f199ed575bf"
      },
      "outputs": [],
      "source": [
        " # download the model and dataset\n",
        "!wget -O auxes_17.pt https://buffalo.box.com/shared/static/cjk39hq7prpwj2rkqz6lc2jr6q2h5shy.pt # model checkpoints\n",
        "!wget -O cyberbullying_data.zip https://github.com/cuadvancelab/materials/blob/main/lab2/cyberbullying_data.zip?raw=true # test dataset"
      ]
    },
    {
      "cell_type": "code",
      "execution_count": null,
      "metadata": {
        "id": "ybkEIhE6B4Kx"
      },
      "outputs": [],
      "source": [
        "# unzip the test data\n",
        "%%capture\n",
        "!unzip \"/content/cyberbullying_data.zip\" -d \"/content\""
      ]
    },
    {
      "cell_type": "markdown",
      "metadata": {
        "id": "Ytz-y70fHfqd"
      },
      "source": [
        "Let's import all the dependencies in the iPython notebook"
      ]
    },
    {
      "cell_type": "code",
      "execution_count": null,
      "metadata": {
        "id": "-Co9BU-xoIBr"
      },
      "outputs": [],
      "source": [
        "import torch\n",
        "import torchvision\n",
        "import torch.nn as nn\n",
        "import torch.nn.functional as F\n",
        "from torch import optim\n",
        "import torch.utils.data as data_utils\n",
        "import torchvision.transforms as transforms\n",
        "from torchvision import models\n",
        "from torch.optim.lr_scheduler import ReduceLROnPlateau\n",
        "from torch.utils.data import Dataset, DataLoader"
      ]
    },
    {
      "cell_type": "code",
      "execution_count": null,
      "metadata": {
        "id": "KehdlyFsoIPQ"
      },
      "outputs": [],
      "source": [
        "import pickle\n",
        "import gzip\n",
        "import sys\n",
        "import time\n",
        "import numpy as np\n",
        "import math\n",
        "import os\n",
        "import random\n",
        "from skimage import io, transform"
      ]
    },
    {
      "cell_type": "markdown",
      "metadata": {
        "id": "TZsTX1N_UpYZ"
      },
      "source": [
        "## How to identify cyberbullying in images"
      ]
    },
    {
      "cell_type": "code",
      "execution_count": null,
      "metadata": {
        "colab": {
          "base_uri": "https://localhost:8080/",
          "height": 283
        },
        "id": "9SDpIuM-8FCm",
        "outputId": "1d45a653-a551-487e-c96d-5919a4a4006f"
      },
      "outputs": [],
      "source": [
        "# @title An example image\n",
        "# importing required libraries\n",
        "import matplotlib.pyplot as plt\n",
        "import matplotlib.image as img\n",
        "  \n",
        "# reading the image\n",
        "testImage = img.imread('/content/cyberbullying_data/cyberbullying_data_splits_clean/test/cyberbullying/7.s-s-unshaven-sad-ashamed-man-doing-loser-sign-hand-fingers-his-front-funny-depressed-face-expression-s-139158713.jpg')\n",
        "  \n",
        "# displaying the image\n",
        "plt.imshow(testImage)"
      ]
    },
    {
      "attachments": {},
      "cell_type": "markdown",
      "metadata": {
        "id": "PKO0qyvyUtaU"
      },
      "source": [
        "**5 FACTORS to measurement cyberbulling in images**\n",
        "- Body-pose\n",
        "- Facial Emotion\n",
        "- Object\n",
        "- Gesture\n",
        "- Social Factors\n",
        "\n",
        "<img src=\"https://github.com/cuadvancelab/materials/blob/main/lab2/factors.png?raw=true\" alt=\"drawing\" width=\"600\"/>"
      ]
    },
    {
      "cell_type": "markdown",
      "metadata": {
        "id": "leIymRiyUyLY"
      },
      "source": [
        "The follow table shows the analysis of cyberbulling factors in images. Higher value of cosine similarity indicates higher correlation.\n",
        "\n",
        "| Factor        | Attribute           |  Cyberbulling  |  Non-cyberbulling  |  Description  |\n",
        "| ------------- |:----------:|:-----:|:-----:| ------------- :|\n",
        "| Body-pose      | Front pose <br> Non-front pose | 0.86<br>0.50 | 0.53 <br> 0.84 | Pose of subject in image is towards the viewer |\n",
        "| Emotion      | Joy <br> Sorrow <br> Anger <br> Surprise | 0.34<br>0.02<br>0.09<br>0.07 | 0.25<br>0.02<br>0.04<br>0.05 | Facial emotion of subject in image|\n",
        "| Gesture      | Hand gesture <br> No hand gesture | 0.71<br>0.70 | 0.32 <br> 0.94 | Hand gesture made by subject in imager |\n",
        "| Object      | Threatening object <br> No threatening object | 0.33<br>0.94 | 0.06 <br> 0.99 | Threatening object present in image |\n",
        "| Social      | Anti-LGBT <br> Anti-black racism | 0.45<br>0.03 | 0.06 <br> 0.00 | Anti-LGBT symbols and anti-black racism in image |\n",
        "\n",
        "More details can be found in 2021 NDSS paper: <em>Towards Understanding and Detecting Cyberbullying in Real-world Images</em> [link](https://www.ndss-symposium.org/wp-content/uploads/ndss2021_7C-4_24260_paper.pdf)"
      ]
    },
    {
      "cell_type": "markdown",
      "metadata": {
        "id": "leCI51YW7UfE"
      },
      "source": [
        "## Load datasets"
      ]
    },
    {
      "cell_type": "markdown",
      "metadata": {
        "id": "iH_eewicHqlb"
      },
      "source": [
        "Now, let's run the subsequent codes to load your data from a predefined\n",
        "class"
      ]
    },
    {
      "cell_type": "code",
      "execution_count": null,
      "metadata": {
        "id": "CROpOz3boJup"
      },
      "outputs": [],
      "source": [
        "class PosesDataset(Dataset):\n",
        "\n",
        "  def __init__(self, root_dir, poses_dir, auxes_dir):\n",
        "\n",
        "    self.samples = []\n",
        "    self.root_dir = root_dir\n",
        "    self.poses_dir = poses_dir\n",
        "    self.auxes_dir = auxes_dir\n",
        "\n",
        "    for _, _, cb_images in os.walk(self.root_dir + 'cyberbullying'): break\n",
        "    for _, _, non_cb_images in os.walk(self.root_dir + 'non_cyberbullying'): break\n",
        "    for _, _, cb_poses in os.walk(self.poses_dir + 'cyberbullying'): break\n",
        "    for _, _, non_cb_poses in os.walk(self.poses_dir + 'non_cyberbullying'): break\n",
        "\n",
        "    for i in cb_images:\n",
        "      self.samples.append((self.root_dir + 'cyberbullying/' + i, self.poses_dir + 'cyberbullying/' + i, self.auxes_dir + 'cyberbullying/' + i, 1))  \n",
        "\n",
        "    for i in non_cb_images:\n",
        "      self.samples.append((self.root_dir + 'non_cyberbullying/' + i, self.poses_dir + 'non_cyberbullying/' + i, self.auxes_dir + 'non_cyberbullying/' + i, 0))\n",
        "\n",
        "\n",
        "  def __len__(self):\n",
        "    return len(self.samples)\n",
        "\n",
        "  def __getitem__(self, idx):\n",
        "    if torch.is_tensor(idx):\n",
        "      idx = idx.tolist()\n",
        "\n",
        "    img_name, pose_name, aux_name, label = self.samples[idx]\n",
        "    image = io.imread(img_name)\n",
        "\n",
        "    aux = pickle.load(open(aux_name + '.p', 'rb'))\n",
        "    aux = torch.tensor(aux)\n",
        "    \n",
        "    # drop the alpha channel for some images\n",
        "    if image.shape == (224, 224): \n",
        "      # handle grayscale images   \n",
        "      image = np.stack([image, image, image], axis=2)\n",
        "\n",
        "    if image.shape == (224, 224, 4):\n",
        "      image = image[:,:,:3]\n",
        "\n",
        "    image = image.transpose((2, 0, 1)) # C X H X W\n",
        "    pose = io.imread(pose_name)\n",
        "    if pose.shape != (224, 224):\n",
        "      pose = pose[:,:,0]\n",
        "    pose = np.expand_dims(pose, axis = 0)\n",
        "    image = np.concatenate((image, pose), axis = 0)\n",
        "    sample = {'image': torch.from_numpy(image.copy()).float() / 255, 'aux': aux, 'label': label}\n",
        "    return sample"
      ]
    },
    {
      "cell_type": "code",
      "execution_count": null,
      "metadata": {
        "id": "GyJIDz2-oMLl"
      },
      "outputs": [],
      "source": [
        "test_set = PosesDataset('cyberbullying_data/cyberbullying_data_splits_clean/test/', 'cyberbullying_data/cyberbullying_poses/test/', 'cyberbullying_data/cyberbullying_data_auxes/test/')\n",
        "test_loader = torch.utils.data.DataLoader(test_set, batch_size = 1, shuffle = True)"
      ]
    },
    {
      "cell_type": "markdown",
      "metadata": {
        "id": "kAKtA3rj7c_s"
      },
      "source": [
        "## Load pre-trained AI model"
      ]
    },
    {
      "cell_type": "markdown",
      "metadata": {
        "id": "B0uFHmzNH6P1"
      },
      "source": [
        "We will use GPU to test our AI if it is available."
      ]
    },
    {
      "cell_type": "code",
      "execution_count": null,
      "metadata": {
        "id": "LB-maxBGoOms"
      },
      "outputs": [],
      "source": [
        "device = torch.device('cuda:0' if torch.cuda.is_available() else 'cpu')"
      ]
    },
    {
      "attachments": {},
      "cell_type": "markdown",
      "metadata": {
        "id": "wktAYGheRgG7"
      },
      "source": [
        "The AI model prediction process looks like the following figure.\n",
        "<img src=\"https://github.com/cuadvancelab/materials/blob/main/lab2/model.png?raw=true\" alt=\"drawing\" width=\"700\"/>\n",
        "\n",
        "In our AI model, we combine the low level image features with the cyberbulling factors identified before. We combine these features using feature fusion techniques.\n",
        "\n",
        "We use the `VGG16` pre-trained model for image features `CNN` and use a multi-layer perceptron model `MLP` for the factors related features, and combine the feature vectors from both these models using late fusion."
      ]
    },
    {
      "cell_type": "markdown",
      "metadata": {
        "id": "1G3SH9p8ILmd"
      },
      "source": [
        "Let's load the pre-trained model to test its capability"
      ]
    },
    {
      "cell_type": "code",
      "execution_count": null,
      "metadata": {
        "colab": {
          "base_uri": "https://localhost:8080/",
          "height": 139,
          "referenced_widgets": [
            "0a06e847898a4f7790e9e4c6f0ea3de6",
            "7c93b601b9bd404e956724af27ce7dfe",
            "8c39f5d4198a40f1abad959dda813052",
            "686a9c81e4a84438aaed3ef3c39edc50",
            "2d65eb56c1f543afb6e4309aef78186a",
            "25d0ce35b39347009d2dc16a7464dc0f",
            "af2c52b2fbae44afb5b4052a4a3361f6",
            "c4ec87ed4b1748f4912ba4e4314e0ba4",
            "09612c323e524261a878bd3b298837c9",
            "18383291fd5f4e5996c0efc4431a103d",
            "0d1b3f5fd8034e07bb417090a85646bc"
          ]
        },
        "id": "qSoMmCwNIJ4R",
        "outputId": "30f50553-39ec-4ffd-9a62-29d3258af37d"
      },
      "outputs": [],
      "source": [
        "# load vgg16 pre-trained model\n",
        "orig = models.vgg16(pretrained = True)"
      ]
    },
    {
      "cell_type": "code",
      "execution_count": null,
      "metadata": {
        "id": "hH7zjEWzoV_6"
      },
      "outputs": [],
      "source": [
        "class CB(nn.Module):\n",
        "  def __init__(self):\n",
        "    super(CB, self).__init__()\n",
        "    self.conv1 = nn.Conv2d(4, 3, 1)\n",
        "    self.f = nn.Sequential(*list(orig.features.children()))\n",
        "    self.avgpool = nn.AdaptiveAvgPool2d((7, 7))\n",
        "    self.aux_classifier = nn.Sequential(\n",
        "      nn.Linear(25097, 1024),\n",
        "      nn.ReLU(),\n",
        "      nn.Linear(1024, 25088),\n",
        "      nn.ReLU()  \n",
        "    )   \n",
        "    self.classifier = nn.Sequential(*list(orig.classifier.children()))\n",
        "    self.classifier[-1] = nn.Linear(4096, 2)\n",
        "    self.sig = nn.Sigmoid()\n",
        " \n",
        "  def forward(self, x, aux):\n",
        "    x = self.conv1(x) \n",
        "    x = self.f(x)\n",
        "    x = self.avgpool(x)\n",
        "    x = torch.flatten(x, 1) \n",
        "    x = torch.cat((x, aux), dim = 1)\n",
        "    x = self.aux_classifier(x)\n",
        "    x = self.classifier(x)\n",
        "    x = self.sig(x) \n",
        "\n",
        "\n",
        "    return x\n"
      ]
    },
    {
      "cell_type": "markdown",
      "metadata": {
        "id": "YijTxNzIIgeO"
      },
      "source": [
        "Pass the pre-trained checkpoints to the VGG model so that you can have our pre-trained model"
      ]
    },
    {
      "cell_type": "code",
      "execution_count": null,
      "metadata": {
        "id": "PJyl75SEoYAg"
      },
      "outputs": [],
      "source": [
        "model = torch.load(\"auxes_17.pt\")\n",
        "model.to(device)\n",
        "\n",
        "running_loss = []\n",
        "criterion = nn.CrossEntropyLoss()\n",
        "correct, incorrect, total = 0., 0., 0."
      ]
    },
    {
      "attachments": {},
      "cell_type": "markdown",
      "metadata": {
        "id": "OquLZfQh7sfr"
      },
      "source": [
        "## Generate the detection resuls for test data"
      ]
    },
    {
      "cell_type": "markdown",
      "metadata": {
        "id": "SnK2dbcDJCKB"
      },
      "source": [
        "Now, it's time to evaulate the pre-trained model's capability with our test dataset"
      ]
    },
    {
      "cell_type": "code",
      "execution_count": null,
      "metadata": {
        "colab": {
          "base_uri": "https://localhost:8080/"
        },
        "id": "rw8zw7ppoZTI",
        "outputId": "2f455012-ed05-4356-e9d9-7905662f3eae"
      },
      "outputs": [],
      "source": [
        "with torch.no_grad():\n",
        "  for i_v, data_v in enumerate(test_loader):\n",
        "    x_test, y_test, aux_test = data_v['image'], data_v['label'], data_v['aux']\n",
        "    x_test, y_test, aux_test = x_test.to(device), y_test.to(device, dtype = torch.long), aux_test.to(device, dtype = torch.float)\n",
        "    y_test_ = model(x_test, aux_test) # forward pass for the pre-trained model\n",
        "    running_loss.append(criterion(y_test_, y_test))\n",
        "    _, predicted = torch.max(y_test_.data, 1)\n",
        "    total += y_test.size(0)\n",
        "    correct += (predicted == y_test).sum().item() \n",
        "\n",
        "print('Test loss is: {:.3f}'.format((sum(running_loss) / len(running_loss)).item()))\n",
        "print('The accuracy for test dataset is: {}%'.format((correct / total) * 100))\n"
      ]
    },
    {
      "attachments": {},
      "cell_type": "markdown",
      "metadata": {
        "id": "XUplI2aTQs6n"
      },
      "source": [
        "\n",
        "- - - -\n",
        "**<font color='red'>Task 1:</font>\n",
        "Write code to generate result report contains: Accuracy, Precision, Recall and F1-Score**\n",
        "- - - -\n",
        "reference link: https://en.wikipedia.org/wiki/F-score\n",
        "![image.png](data:image/png;base64,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)"
      ]
    },
    {
      "cell_type": "code",
      "execution_count": null,
      "metadata": {},
      "outputs": [],
      "source": [
        "# get the acc, precision, recall, f1 score for the test set\n",
        "\n",
        "tp, tn, fp, fn = 0, 0, 0, 0\n",
        "\n",
        "model.eval()\n",
        "with torch.no_grad():\n",
        "    for i_v, data_v in enumerate(test_loader):\n",
        "        x_test, y_test, aux_test = data_v['image'], data_v['label'], data_v['aux']\n",
        "        x_test, y_test, aux_test = x_test.to(device), y_test.to(device, dtype = torch.long), aux_test.to(device, dtype = torch.float)\n",
        "        y_test_ = model(x_test, aux_test) # forward pass for the fine-tuned model\n",
        "        _, predicted = torch.max(y_test_.data, 1)\n",
        "        if y_test == 1 and predicted == 1:\n",
        "            tp += 1\n",
        "        elif y_test == 1 and predicted == 0:\n",
        "            fn += 1\n",
        "        elif y_test == 0 and predicted == 1:\n",
        "            fp += 1\n",
        "        elif y_test == 0 and predicted == 0:\n",
        "            tn += 1"
      ]
    },
    {
      "cell_type": "code",
      "execution_count": null,
      "metadata": {},
      "outputs": [],
      "source": [
        "# TODO: Complete the following code to calculate the accuracy, precision, recall and F1 score.\n",
        "acc = \n",
        "precision = \n",
        "recall = \n",
        "f1 =\n",
        "\n",
        "print('The accuracy for test dataset is: {}%'.format(acc * 100))\n",
        "print('The precision for test dataset is: {}%'.format(precision * 100))\n",
        "print('The recall for test dataset is: {}%'.format(recall * 100))\n",
        "print('The f1 score for test dataset is: {}%'.format(f1 * 100))"
      ]
    },
    {
      "attachments": {},
      "cell_type": "markdown",
      "metadata": {
        "id": "vAW2dFbUQ8Rk"
      },
      "source": [
        "\n",
        "- - - -\n",
        "**<font color='red'>Task 2:</font>\n",
        "Write code to plot the confusion matrix** (you are allowed to borrow any python tools, such as scikit-learn (https://scikit-learn.org/stable/modules/generated/sklearn.metrics.confusion_matrix.html))\n",
        "- - - -"
      ]
    },
    {
      "cell_type": "code",
      "execution_count": null,
      "metadata": {},
      "outputs": [],
      "source": [
        "# Complete the following code to get the confusion matrix for the test set\n",
        "# get the confusion matrix for the test set\n",
        "from sklearn.metrics import confusion_matrix\n",
        "\n",
        "y_true = []\n",
        "y_pred = []\n",
        "\n",
        "# TODO: Write the code to get the y_true and y_pred lists for the test set\n",
        "# your code here:\n",
        "\n",
        "with torch.no_grad():\n",
        "    for i_v, data_v in enumerate(test_loader):\n",
        "        x_test, y_test, aux_test = data_v['image'], data_v['label'], data_v['aux']\n",
        "        x_test, y_test, aux_test = x_test.to(device), y_test.to(device, dtype = torch.long), aux_test.to(device, dtype = torch.float)\n",
        "        y_test_ = model(x_test, aux_test) \n",
        "        _, predicted = torch.max(y_test_.data, 1)\n",
        "        y_true.append(y_test.item())\n",
        "        y_pred.append(predicted.item())\n",
        "\n",
        "# get the confusion matrix\n",
        "cm = confusion_matrix(y_true, y_pred)\n",
        "# cm\n",
        "\n",
        "# plot the confusion matrix\n",
        "import seaborn as sns\n",
        "import matplotlib.pyplot as plt\n",
        "\n",
        "plt.figure(figsize=(10, 10))\n",
        "sns.heatmap(cm, annot=True, fmt=\"d\", cmap='Blues')\n",
        "plt.title(\"Confusion matrix\")\n",
        "plt.ylabel('True label')\n",
        "plt.xlabel('Predicted label')\n",
        "plt.show()"
      ]
    },
    {
      "cell_type": "markdown",
      "metadata": {
        "id": "OWI-fdPuBjeL"
      },
      "source": [
        "## Let's check with one instance"
      ]
    },
    {
      "cell_type": "markdown",
      "metadata": {
        "id": "TvZeIcxYJPgu"
      },
      "source": [
        "To better understand the performance, you can try to visualize one instance in the dataset"
      ]
    },
    {
      "cell_type": "code",
      "execution_count": null,
      "metadata": {
        "colab": {
          "base_uri": "https://localhost:8080/"
        },
        "id": "eDgx1fRxRwIv",
        "outputId": "e049601f-46fd-4694-8293-3fdfe237d2a4"
      },
      "outputs": [],
      "source": [
        "# check how many test data samples we have\n",
        "print(f\"we have {len(test_set)} samples in our test dataset, you can choose any of them to see the prediction.\")"
      ]
    },
    {
      "cell_type": "code",
      "execution_count": null,
      "metadata": {
        "colab": {
          "base_uri": "https://localhost:8080/",
          "height": 297
        },
        "id": "eE0MVD6RDeZh",
        "outputId": "96e7442d-a1b5-465b-f1da-4b78389e687b"
      },
      "outputs": [],
      "source": [
        "#@markdown Select a number to view the image and its label.\n",
        "\n",
        "picture_index  = \"11\" #@param [0,1,2,3,4,5,6,7,8,9,10,11,12,13,14,15,16,17,18,19]\n",
        "index = int(picture_index)\n",
        "instance = test_set[index]\n",
        "\n",
        "import matplotlib.pyplot as plt\n",
        "import matplotlib.image as mpimg\n",
        "img = mpimg.imread(test_set.samples[index][0])\n",
        "imgplot = plt.imshow(img)\n",
        "plt.show()\n",
        "annot_label = \"cyberbullying\" if test_set[index]['label']==1 else \"non-cyberbullying\"\n",
        "print('')\n",
        "print(\"The label of this image is: {}\".format(annot_label))"
      ]
    },
    {
      "cell_type": "markdown",
      "metadata": {
        "id": "Tt5bRKBbJx27"
      },
      "source": [
        "Run the following code cell to check the AI's prediction"
      ]
    },
    {
      "cell_type": "code",
      "execution_count": null,
      "metadata": {},
      "outputs": [],
      "source": [
        "# check if the prediction is correct\n",
        "instance_image, instance_label, instance_aux = instance['image'].to(device), torch.tensor(instance['label']).to(device, dtype = torch.long), instance['aux'].to(device, dtype = torch.float)\n",
        "\n",
        "output = model(instance_image.unsqueeze(0), instance_aux.unsqueeze(0)).data\n",
        "_, prediction = torch.max(output.data, 1)\n",
        "predict_label = \"cyberbullying\" if prediction.item()==1 else \"non-cyberbullying\"\n",
        "comparision = \"correct\" if prediction==instance_label else \"not correct\"\n",
        "\n",
        "print(\"The AI prediction for this image is: {}, which is {}!\".format(predict_label, comparision))"
      ]
    },
    {
      "cell_type": "code",
      "execution_count": null,
      "metadata": {},
      "outputs": [],
      "source": [
        "# AUC-ROC curve is a performance measurement for classification problem at various thresholds settings. ROC is a probability curve and AUC represents degree or measure of separability. It tells how much model is capable of distinguishing between classes. Higher the AUC, better the model is at predicting 0s as 0s and 1s as 1s.\n",
        "from sklearn.metrics import roc_curve, auc\n",
        "from sklearn.metrics import roc_auc_score\n",
        "\n",
        "y_scores = []\n",
        "y_true = []\n",
        "\n",
        "model.eval()\n",
        "with torch.no_grad():\n",
        "    for i_v, data_v in enumerate(test_loader):\n",
        "        x_test, y_test, aux_test = data_v['image'], data_v['label'], data_v['aux']\n",
        "        x_test, y_test, aux_test = x_test.to(device), y_test.to(device, dtype = torch.long), aux_test.to(device, dtype = torch.float)\n",
        "        y_test_ = model(x_test, aux_test) \n",
        "        y_scores.append(y_test_[0][1].item())\n",
        "        y_true.append(y_test.item())\n",
        "\n",
        "fpr, tpr, _ = roc_curve(y_true, y_scores)\n",
        "roc_auc = auc(fpr, tpr)\n",
        "\n",
        "plt.figure()\n",
        "plt.plot(fpr, tpr, color='darkorange', lw=2, label='ROC curve (area = %0.2f)' % roc_auc)\n",
        "plt.plot([0, 1], [0, 1], color='navy', lw=2, linestyle='--')\n",
        "plt.xlim([0.0, 1.0])\n",
        "plt.ylim([0.0, 1.05])\n",
        "plt.xlabel('False Positive Rate')\n",
        "plt.ylabel('True Positive Rate')\n",
        "plt.title('Receiver Operating Characteristic')\n",
        "plt.legend(loc=\"lower right\")\n",
        "\n",
        "plt.show()\n",
        "\n",
        "print('The AUC-ROC score is: {:.3f}'.format(roc_auc))\n",
        "\n"
      ]
    },
    {
      "attachments": {},
      "cell_type": "markdown",
      "metadata": {},
      "source": [
        "## Model Fine-Tuning"
      ]
    },
    {
      "attachments": {},
      "cell_type": "markdown",
      "metadata": {},
      "source": [
        "\n",
        "\n",
        "- - - -\n",
        "**<font color='red'>Task 3:</font>\n",
        "Write code to fine-tune the model with the training dataset**\n",
        "\n",
        "**The training dataset will be prepared via the following code cells.**\n",
        "\n",
        "- - - -"
      ]
    },
    {
      "cell_type": "code",
      "execution_count": null,
      "metadata": {},
      "outputs": [],
      "source": [
        "# download the training data\n",
        "!wget -O cyberbullying_train_data.zip https://buffalo.box.com/shared/static/4tq3wxly5pk2k8hpx7brvtr89icx7e7f.zip"
      ]
    },
    {
      "cell_type": "code",
      "execution_count": null,
      "metadata": {},
      "outputs": [],
      "source": [
        "# unzip the training data\n",
        "%%capture\n",
        "!unzip \"/content/cyberbullying_train_data.zip\" -d \"/content\""
      ]
    },
    {
      "cell_type": "code",
      "execution_count": null,
      "metadata": {},
      "outputs": [],
      "source": [
        "# prepare the training data\n",
        "train_set = PosesDataset('cyberbullying_train_data/cyberbullying_data_splits_clean/train/', 'cyberbullying_train_data/cyberbullying_poses/train/', 'cyberbullying_train_data/cyberbullying_data_auxes/train/')\n",
        "# remove .DS_Store files if they exist\n",
        "train_set.samples = [x for x in train_set.samples if '.DS_Store' not in x[0]]\n",
        "# prepare the dataloader\n",
        "train_loader = torch.utils.data.DataLoader(train_set, batch_size = 12, shuffle = True)"
      ]
    },
    {
      "cell_type": "code",
      "execution_count": null,
      "metadata": {},
      "outputs": [],
      "source": [
        "# copy the pre-trained model for fine-tuning\n",
        "ft_model = torch.load(\"auxes_17.pt\")\n",
        "ft_model.to(device)"
      ]
    },
    {
      "cell_type": "code",
      "execution_count": null,
      "metadata": {},
      "outputs": [],
      "source": [
        "# prepare the optimizer, loss function, learning rate\n",
        "optimizer = optim.Adam(ft_model.parameters(), lr = 1e-4)"
      ]
    },
    {
      "cell_type": "code",
      "execution_count": null,
      "metadata": {},
      "outputs": [],
      "source": [
        "# TODO: complete the following code by replace \"___\", to mimic fine-tune (further training) the model\n",
        "ft_model.train()\n",
        "\n",
        "epochs = ___\n",
        "for epoch in range(epochs):\n",
        "    for i, data in enumerate(train_loader):\n",
        "        inputs = data['image'].to(device)\n",
        "        aux = data['aux'].to(device) \n",
        "        labels = data['label'].to(device)\n",
        "        optimizer.zero_grad() # zero the parameter gradients\n",
        "        outputs = ft_model(inputs, aux) # forward pass\n",
        "        loss = criterion(___, ___) # compute loss via comparing model's outputs and our predefined labels\n",
        "        loss.backward() # backward pass\n",
        "        optimizer.step() # update weights\n",
        "        running_loss.append(loss.item()) # save loss\n",
        "        _, predicted = torch.max(outputs.data, 1) # get predictions\n",
        "        total += labels.size(0) # update total\n",
        "        correct += (___ == ___).sum().item() # update correct predictions\n",
        "        if i % 50 == 0: # print every 50 mini-batches\n",
        "            print('Epoch: %d, Iteration: %d, Loss: %.4f, Accuracy: %.4f' % (epoch, i, loss.item(), correct / total))\n",
        "            correct, incorrect, total = ___, ___, ___ # reset correct, incorrect, and total. hint: float is better than int\n",
        "\n",
        "# Note: \n",
        "# This code is a very basic version that helps us keep training the model with the training set, \n",
        "# Recall from the last lecture, we can have a validation set to help us decide when to stop training \n",
        "# the model. \n",
        "# If you are interested, you can try to split the training set into training set and validation set, \n",
        "# and use the validation set to help you decide when to stop training the model"
      ]
    },
    {
      "attachments": {},
      "cell_type": "markdown",
      "metadata": {
        "id": "NKrc-Tq_SGnw"
      },
      "source": [
        "\n",
        "- - - -\n",
        "**<font color='red'>Task 4:</font>\n",
        "Write code to print out your fine-tuned model's results, you can refer the code how we generate results for test dataset previously.**\n",
        " \n",
        "**Compare the the two results you get, is the prediction accuracy better than the previous model? \n",
        "If not, think about the reasons for it perhaps.**\n",
        "- - - -"
      ]
    },
    {
      "cell_type": "code",
      "execution_count": null,
      "metadata": {
        "id": "WMwjbHCtS5Tc"
      },
      "outputs": [],
      "source": [
        "ft_model.eval()\n",
        "# TODO: write code to evaluate the model on the test set\n"
      ]
    },
    {
      "attachments": {},
      "cell_type": "markdown",
      "metadata": {
        "id": "5ILAvt5z6ZSW"
      },
      "source": [
        "\n",
        "- - - -\n",
        "**<font color='red'>Task 5:</font>\n",
        "Write code to visualize the image \"/content/cyberbullying_data/cyberbullying_data_splits_clean/test/cyberbullying/fingerGunAnnotated_239.JPEG\".<br>\n",
        "Then test this image with the fine-tuned model and print the prediction results.**\n",
        "- - - -"
      ]
    },
    {
      "cell_type": "code",
      "execution_count": null,
      "metadata": {},
      "outputs": [],
      "source": [
        "from PIL import Image\n",
        "image = \"/content/cyberbullying_data/cyberbullying_data_splits_clean/test/cyberbullying/fingerGunAnnotated_239.JPEG\"\n",
        "img = Image.open(image)\n",
        "\n",
        "# TODO: write code to plot the image and its label\n",
        "# hint: use plt.imshow()\n"
      ]
    },
    {
      "cell_type": "code",
      "execution_count": null,
      "metadata": {
        "id": "kKaKO_sK8C1U"
      },
      "outputs": [],
      "source": [
        "# TODO: find the picture_index of the chosen image by comparing with the previous visualization cell\n",
        "picture_index = \n",
        "instance = test_set[picture_index]\n",
        "\n",
        "# check if the prediction is correct\n",
        "instance_image, instance_label, instance_aux = instance['image'].to(device), torch.tensor(instance['label']).to(device, dtype = torch.long), instance['aux'].to(device, dtype = torch.float)\n",
        "\n",
        "# TODO: get the prediction for the image"
      ]
    }
  ],
  "metadata": {
    "accelerator": "GPU",
    "colab": {
      "provenance": []
    },
    "gpuClass": "standard",
    "kernelspec": {
      "display_name": "Python 3",
      "name": "python3"
    },
    "language_info": {
      "name": "python"
    },
    "widgets": {
      "application/vnd.jupyter.widget-state+json": {
        "09612c323e524261a878bd3b298837c9": {
          "model_module": "@jupyter-widgets/controls",
          "model_module_version": "1.5.0",
          "model_name": "ProgressStyleModel",
          "state": {
            "_model_module": "@jupyter-widgets/controls",
            "_model_module_version": "1.5.0",
            "_model_name": "ProgressStyleModel",
            "_view_count": null,
            "_view_module": "@jupyter-widgets/base",
            "_view_module_version": "1.2.0",
            "_view_name": "StyleView",
            "bar_color": null,
            "description_width": ""
          }
        },
        "0a06e847898a4f7790e9e4c6f0ea3de6": {
          "model_module": "@jupyter-widgets/controls",
          "model_module_version": "1.5.0",
          "model_name": "HBoxModel",
          "state": {
            "_dom_classes": [],
            "_model_module": "@jupyter-widgets/controls",
            "_model_module_version": "1.5.0",
            "_model_name": "HBoxModel",
            "_view_count": null,
            "_view_module": "@jupyter-widgets/controls",
            "_view_module_version": "1.5.0",
            "_view_name": "HBoxView",
            "box_style": "",
            "children": [
              "IPY_MODEL_7c93b601b9bd404e956724af27ce7dfe",
              "IPY_MODEL_8c39f5d4198a40f1abad959dda813052",
              "IPY_MODEL_686a9c81e4a84438aaed3ef3c39edc50"
            ],
            "layout": "IPY_MODEL_2d65eb56c1f543afb6e4309aef78186a"
          }
        },
        "0d1b3f5fd8034e07bb417090a85646bc": {
          "model_module": "@jupyter-widgets/controls",
          "model_module_version": "1.5.0",
          "model_name": "DescriptionStyleModel",
          "state": {
            "_model_module": "@jupyter-widgets/controls",
            "_model_module_version": "1.5.0",
            "_model_name": "DescriptionStyleModel",
            "_view_count": null,
            "_view_module": "@jupyter-widgets/base",
            "_view_module_version": "1.2.0",
            "_view_name": "StyleView",
            "description_width": ""
          }
        },
        "18383291fd5f4e5996c0efc4431a103d": {
          "model_module": "@jupyter-widgets/base",
          "model_module_version": "1.2.0",
          "model_name": "LayoutModel",
          "state": {
            "_model_module": "@jupyter-widgets/base",
            "_model_module_version": "1.2.0",
            "_model_name": "LayoutModel",
            "_view_count": null,
            "_view_module": "@jupyter-widgets/base",
            "_view_module_version": "1.2.0",
            "_view_name": "LayoutView",
            "align_content": null,
            "align_items": null,
            "align_self": null,
            "border": null,
            "bottom": null,
            "display": null,
            "flex": null,
            "flex_flow": null,
            "grid_area": null,
            "grid_auto_columns": null,
            "grid_auto_flow": null,
            "grid_auto_rows": null,
            "grid_column": null,
            "grid_gap": null,
            "grid_row": null,
            "grid_template_areas": null,
            "grid_template_columns": null,
            "grid_template_rows": null,
            "height": null,
            "justify_content": null,
            "justify_items": null,
            "left": null,
            "margin": null,
            "max_height": null,
            "max_width": null,
            "min_height": null,
            "min_width": null,
            "object_fit": null,
            "object_position": null,
            "order": null,
            "overflow": null,
            "overflow_x": null,
            "overflow_y": null,
            "padding": null,
            "right": null,
            "top": null,
            "visibility": null,
            "width": null
          }
        },
        "25d0ce35b39347009d2dc16a7464dc0f": {
          "model_module": "@jupyter-widgets/base",
          "model_module_version": "1.2.0",
          "model_name": "LayoutModel",
          "state": {
            "_model_module": "@jupyter-widgets/base",
            "_model_module_version": "1.2.0",
            "_model_name": "LayoutModel",
            "_view_count": null,
            "_view_module": "@jupyter-widgets/base",
            "_view_module_version": "1.2.0",
            "_view_name": "LayoutView",
            "align_content": null,
            "align_items": null,
            "align_self": null,
            "border": null,
            "bottom": null,
            "display": null,
            "flex": null,
            "flex_flow": null,
            "grid_area": null,
            "grid_auto_columns": null,
            "grid_auto_flow": null,
            "grid_auto_rows": null,
            "grid_column": null,
            "grid_gap": null,
            "grid_row": null,
            "grid_template_areas": null,
            "grid_template_columns": null,
            "grid_template_rows": null,
            "height": null,
            "justify_content": null,
            "justify_items": null,
            "left": null,
            "margin": null,
            "max_height": null,
            "max_width": null,
            "min_height": null,
            "min_width": null,
            "object_fit": null,
            "object_position": null,
            "order": null,
            "overflow": null,
            "overflow_x": null,
            "overflow_y": null,
            "padding": null,
            "right": null,
            "top": null,
            "visibility": null,
            "width": null
          }
        },
        "2d65eb56c1f543afb6e4309aef78186a": {
          "model_module": "@jupyter-widgets/base",
          "model_module_version": "1.2.0",
          "model_name": "LayoutModel",
          "state": {
            "_model_module": "@jupyter-widgets/base",
            "_model_module_version": "1.2.0",
            "_model_name": "LayoutModel",
            "_view_count": null,
            "_view_module": "@jupyter-widgets/base",
            "_view_module_version": "1.2.0",
            "_view_name": "LayoutView",
            "align_content": null,
            "align_items": null,
            "align_self": null,
            "border": null,
            "bottom": null,
            "display": null,
            "flex": null,
            "flex_flow": null,
            "grid_area": null,
            "grid_auto_columns": null,
            "grid_auto_flow": null,
            "grid_auto_rows": null,
            "grid_column": null,
            "grid_gap": null,
            "grid_row": null,
            "grid_template_areas": null,
            "grid_template_columns": null,
            "grid_template_rows": null,
            "height": null,
            "justify_content": null,
            "justify_items": null,
            "left": null,
            "margin": null,
            "max_height": null,
            "max_width": null,
            "min_height": null,
            "min_width": null,
            "object_fit": null,
            "object_position": null,
            "order": null,
            "overflow": null,
            "overflow_x": null,
            "overflow_y": null,
            "padding": null,
            "right": null,
            "top": null,
            "visibility": null,
            "width": null
          }
        },
        "686a9c81e4a84438aaed3ef3c39edc50": {
          "model_module": "@jupyter-widgets/controls",
          "model_module_version": "1.5.0",
          "model_name": "HTMLModel",
          "state": {
            "_dom_classes": [],
            "_model_module": "@jupyter-widgets/controls",
            "_model_module_version": "1.5.0",
            "_model_name": "HTMLModel",
            "_view_count": null,
            "_view_module": "@jupyter-widgets/controls",
            "_view_module_version": "1.5.0",
            "_view_name": "HTMLView",
            "description": "",
            "description_tooltip": null,
            "layout": "IPY_MODEL_18383291fd5f4e5996c0efc4431a103d",
            "placeholder": "​",
            "style": "IPY_MODEL_0d1b3f5fd8034e07bb417090a85646bc",
            "value": " 528M/528M [00:02&lt;00:00, 213MB/s]"
          }
        },
        "7c93b601b9bd404e956724af27ce7dfe": {
          "model_module": "@jupyter-widgets/controls",
          "model_module_version": "1.5.0",
          "model_name": "HTMLModel",
          "state": {
            "_dom_classes": [],
            "_model_module": "@jupyter-widgets/controls",
            "_model_module_version": "1.5.0",
            "_model_name": "HTMLModel",
            "_view_count": null,
            "_view_module": "@jupyter-widgets/controls",
            "_view_module_version": "1.5.0",
            "_view_name": "HTMLView",
            "description": "",
            "description_tooltip": null,
            "layout": "IPY_MODEL_25d0ce35b39347009d2dc16a7464dc0f",
            "placeholder": "​",
            "style": "IPY_MODEL_af2c52b2fbae44afb5b4052a4a3361f6",
            "value": "100%"
          }
        },
        "8c39f5d4198a40f1abad959dda813052": {
          "model_module": "@jupyter-widgets/controls",
          "model_module_version": "1.5.0",
          "model_name": "FloatProgressModel",
          "state": {
            "_dom_classes": [],
            "_model_module": "@jupyter-widgets/controls",
            "_model_module_version": "1.5.0",
            "_model_name": "FloatProgressModel",
            "_view_count": null,
            "_view_module": "@jupyter-widgets/controls",
            "_view_module_version": "1.5.0",
            "_view_name": "ProgressView",
            "bar_style": "success",
            "description": "",
            "description_tooltip": null,
            "layout": "IPY_MODEL_c4ec87ed4b1748f4912ba4e4314e0ba4",
            "max": 553433881,
            "min": 0,
            "orientation": "horizontal",
            "style": "IPY_MODEL_09612c323e524261a878bd3b298837c9",
            "value": 553433881
          }
        },
        "af2c52b2fbae44afb5b4052a4a3361f6": {
          "model_module": "@jupyter-widgets/controls",
          "model_module_version": "1.5.0",
          "model_name": "DescriptionStyleModel",
          "state": {
            "_model_module": "@jupyter-widgets/controls",
            "_model_module_version": "1.5.0",
            "_model_name": "DescriptionStyleModel",
            "_view_count": null,
            "_view_module": "@jupyter-widgets/base",
            "_view_module_version": "1.2.0",
            "_view_name": "StyleView",
            "description_width": ""
          }
        },
        "c4ec87ed4b1748f4912ba4e4314e0ba4": {
          "model_module": "@jupyter-widgets/base",
          "model_module_version": "1.2.0",
          "model_name": "LayoutModel",
          "state": {
            "_model_module": "@jupyter-widgets/base",
            "_model_module_version": "1.2.0",
            "_model_name": "LayoutModel",
            "_view_count": null,
            "_view_module": "@jupyter-widgets/base",
            "_view_module_version": "1.2.0",
            "_view_name": "LayoutView",
            "align_content": null,
            "align_items": null,
            "align_self": null,
            "border": null,
            "bottom": null,
            "display": null,
            "flex": null,
            "flex_flow": null,
            "grid_area": null,
            "grid_auto_columns": null,
            "grid_auto_flow": null,
            "grid_auto_rows": null,
            "grid_column": null,
            "grid_gap": null,
            "grid_row": null,
            "grid_template_areas": null,
            "grid_template_columns": null,
            "grid_template_rows": null,
            "height": null,
            "justify_content": null,
            "justify_items": null,
            "left": null,
            "margin": null,
            "max_height": null,
            "max_width": null,
            "min_height": null,
            "min_width": null,
            "object_fit": null,
            "object_position": null,
            "order": null,
            "overflow": null,
            "overflow_x": null,
            "overflow_y": null,
            "padding": null,
            "right": null,
            "top": null,
            "visibility": null,
            "width": null
          }
        }
      }
    }
  },
  "nbformat": 4,
  "nbformat_minor": 0
}
