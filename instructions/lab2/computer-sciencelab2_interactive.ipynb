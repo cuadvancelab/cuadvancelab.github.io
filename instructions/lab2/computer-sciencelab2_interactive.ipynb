{
  "nbformat": 4,
  "nbformat_minor": 0,
  "metadata": {
    "colab": {
      "provenance": [],
      "collapsed_sections": [],
      "include_colab_link": true
    },
    "kernelspec": {
      "name": "python3",
      "display_name": "Python 3"
    },
    "language_info": {
      "name": "python"
    },
    "accelerator": "GPU",
    "gpuClass": "standard",
    "widgets": {
      "application/vnd.jupyter.widget-state+json": {
        "e4e023d2d0cf467a995c20af20fa281f": {
          "model_module": "@jupyter-widgets/controls",
          "model_name": "HBoxModel",
          "model_module_version": "1.5.0",
          "state": {
            "_dom_classes": [],
            "_model_module": "@jupyter-widgets/controls",
            "_model_module_version": "1.5.0",
            "_model_name": "HBoxModel",
            "_view_count": null,
            "_view_module": "@jupyter-widgets/controls",
            "_view_module_version": "1.5.0",
            "_view_name": "HBoxView",
            "box_style": "",
            "children": [
              "IPY_MODEL_0809cc9835c042579294b482d5d0c6f9",
              "IPY_MODEL_e06e72dd971a4a1886e0f9739fb10f62",
              "IPY_MODEL_c454fd467734496898742c32637f1579"
            ],
            "layout": "IPY_MODEL_42f603ddfb0944e4aa2e39303f810e08"
          }
        },
        "0809cc9835c042579294b482d5d0c6f9": {
          "model_module": "@jupyter-widgets/controls",
          "model_name": "HTMLModel",
          "model_module_version": "1.5.0",
          "state": {
            "_dom_classes": [],
            "_model_module": "@jupyter-widgets/controls",
            "_model_module_version": "1.5.0",
            "_model_name": "HTMLModel",
            "_view_count": null,
            "_view_module": "@jupyter-widgets/controls",
            "_view_module_version": "1.5.0",
            "_view_name": "HTMLView",
            "description": "",
            "description_tooltip": null,
            "layout": "IPY_MODEL_5905634bdea949a29a0c4baa2145e538",
            "placeholder": "​",
            "style": "IPY_MODEL_96647777d3b041c89bd44baa8f705e6b",
            "value": "100%"
          }
        },
        "e06e72dd971a4a1886e0f9739fb10f62": {
          "model_module": "@jupyter-widgets/controls",
          "model_name": "FloatProgressModel",
          "model_module_version": "1.5.0",
          "state": {
            "_dom_classes": [],
            "_model_module": "@jupyter-widgets/controls",
            "_model_module_version": "1.5.0",
            "_model_name": "FloatProgressModel",
            "_view_count": null,
            "_view_module": "@jupyter-widgets/controls",
            "_view_module_version": "1.5.0",
            "_view_name": "ProgressView",
            "bar_style": "success",
            "description": "",
            "description_tooltip": null,
            "layout": "IPY_MODEL_2d3b2b37fb72431a82b88a3821dc5a04",
            "max": 553433881,
            "min": 0,
            "orientation": "horizontal",
            "style": "IPY_MODEL_0decefc2102f46b3a2bc91139697fdaa",
            "value": 553433881
          }
        },
        "c454fd467734496898742c32637f1579": {
          "model_module": "@jupyter-widgets/controls",
          "model_name": "HTMLModel",
          "model_module_version": "1.5.0",
          "state": {
            "_dom_classes": [],
            "_model_module": "@jupyter-widgets/controls",
            "_model_module_version": "1.5.0",
            "_model_name": "HTMLModel",
            "_view_count": null,
            "_view_module": "@jupyter-widgets/controls",
            "_view_module_version": "1.5.0",
            "_view_name": "HTMLView",
            "description": "",
            "description_tooltip": null,
            "layout": "IPY_MODEL_9ed9f1bbb8b842b88107739d72a54008",
            "placeholder": "​",
            "style": "IPY_MODEL_d5052a93f97746e2920eaeb79e741594",
            "value": " 528M/528M [00:02&lt;00:00, 245MB/s]"
          }
        },
        "42f603ddfb0944e4aa2e39303f810e08": {
          "model_module": "@jupyter-widgets/base",
          "model_name": "LayoutModel",
          "model_module_version": "1.2.0",
          "state": {
            "_model_module": "@jupyter-widgets/base",
            "_model_module_version": "1.2.0",
            "_model_name": "LayoutModel",
            "_view_count": null,
            "_view_module": "@jupyter-widgets/base",
            "_view_module_version": "1.2.0",
            "_view_name": "LayoutView",
            "align_content": null,
            "align_items": null,
            "align_self": null,
            "border": null,
            "bottom": null,
            "display": null,
            "flex": null,
            "flex_flow": null,
            "grid_area": null,
            "grid_auto_columns": null,
            "grid_auto_flow": null,
            "grid_auto_rows": null,
            "grid_column": null,
            "grid_gap": null,
            "grid_row": null,
            "grid_template_areas": null,
            "grid_template_columns": null,
            "grid_template_rows": null,
            "height": null,
            "justify_content": null,
            "justify_items": null,
            "left": null,
            "margin": null,
            "max_height": null,
            "max_width": null,
            "min_height": null,
            "min_width": null,
            "object_fit": null,
            "object_position": null,
            "order": null,
            "overflow": null,
            "overflow_x": null,
            "overflow_y": null,
            "padding": null,
            "right": null,
            "top": null,
            "visibility": null,
            "width": null
          }
        },
        "5905634bdea949a29a0c4baa2145e538": {
          "model_module": "@jupyter-widgets/base",
          "model_name": "LayoutModel",
          "model_module_version": "1.2.0",
          "state": {
            "_model_module": "@jupyter-widgets/base",
            "_model_module_version": "1.2.0",
            "_model_name": "LayoutModel",
            "_view_count": null,
            "_view_module": "@jupyter-widgets/base",
            "_view_module_version": "1.2.0",
            "_view_name": "LayoutView",
            "align_content": null,
            "align_items": null,
            "align_self": null,
            "border": null,
            "bottom": null,
            "display": null,
            "flex": null,
            "flex_flow": null,
            "grid_area": null,
            "grid_auto_columns": null,
            "grid_auto_flow": null,
            "grid_auto_rows": null,
            "grid_column": null,
            "grid_gap": null,
            "grid_row": null,
            "grid_template_areas": null,
            "grid_template_columns": null,
            "grid_template_rows": null,
            "height": null,
            "justify_content": null,
            "justify_items": null,
            "left": null,
            "margin": null,
            "max_height": null,
            "max_width": null,
            "min_height": null,
            "min_width": null,
            "object_fit": null,
            "object_position": null,
            "order": null,
            "overflow": null,
            "overflow_x": null,
            "overflow_y": null,
            "padding": null,
            "right": null,
            "top": null,
            "visibility": null,
            "width": null
          }
        },
        "96647777d3b041c89bd44baa8f705e6b": {
          "model_module": "@jupyter-widgets/controls",
          "model_name": "DescriptionStyleModel",
          "model_module_version": "1.5.0",
          "state": {
            "_model_module": "@jupyter-widgets/controls",
            "_model_module_version": "1.5.0",
            "_model_name": "DescriptionStyleModel",
            "_view_count": null,
            "_view_module": "@jupyter-widgets/base",
            "_view_module_version": "1.2.0",
            "_view_name": "StyleView",
            "description_width": ""
          }
        },
        "2d3b2b37fb72431a82b88a3821dc5a04": {
          "model_module": "@jupyter-widgets/base",
          "model_name": "LayoutModel",
          "model_module_version": "1.2.0",
          "state": {
            "_model_module": "@jupyter-widgets/base",
            "_model_module_version": "1.2.0",
            "_model_name": "LayoutModel",
            "_view_count": null,
            "_view_module": "@jupyter-widgets/base",
            "_view_module_version": "1.2.0",
            "_view_name": "LayoutView",
            "align_content": null,
            "align_items": null,
            "align_self": null,
            "border": null,
            "bottom": null,
            "display": null,
            "flex": null,
            "flex_flow": null,
            "grid_area": null,
            "grid_auto_columns": null,
            "grid_auto_flow": null,
            "grid_auto_rows": null,
            "grid_column": null,
            "grid_gap": null,
            "grid_row": null,
            "grid_template_areas": null,
            "grid_template_columns": null,
            "grid_template_rows": null,
            "height": null,
            "justify_content": null,
            "justify_items": null,
            "left": null,
            "margin": null,
            "max_height": null,
            "max_width": null,
            "min_height": null,
            "min_width": null,
            "object_fit": null,
            "object_position": null,
            "order": null,
            "overflow": null,
            "overflow_x": null,
            "overflow_y": null,
            "padding": null,
            "right": null,
            "top": null,
            "visibility": null,
            "width": null
          }
        },
        "0decefc2102f46b3a2bc91139697fdaa": {
          "model_module": "@jupyter-widgets/controls",
          "model_name": "ProgressStyleModel",
          "model_module_version": "1.5.0",
          "state": {
            "_model_module": "@jupyter-widgets/controls",
            "_model_module_version": "1.5.0",
            "_model_name": "ProgressStyleModel",
            "_view_count": null,
            "_view_module": "@jupyter-widgets/base",
            "_view_module_version": "1.2.0",
            "_view_name": "StyleView",
            "bar_color": null,
            "description_width": ""
          }
        },
        "9ed9f1bbb8b842b88107739d72a54008": {
          "model_module": "@jupyter-widgets/base",
          "model_name": "LayoutModel",
          "model_module_version": "1.2.0",
          "state": {
            "_model_module": "@jupyter-widgets/base",
            "_model_module_version": "1.2.0",
            "_model_name": "LayoutModel",
            "_view_count": null,
            "_view_module": "@jupyter-widgets/base",
            "_view_module_version": "1.2.0",
            "_view_name": "LayoutView",
            "align_content": null,
            "align_items": null,
            "align_self": null,
            "border": null,
            "bottom": null,
            "display": null,
            "flex": null,
            "flex_flow": null,
            "grid_area": null,
            "grid_auto_columns": null,
            "grid_auto_flow": null,
            "grid_auto_rows": null,
            "grid_column": null,
            "grid_gap": null,
            "grid_row": null,
            "grid_template_areas": null,
            "grid_template_columns": null,
            "grid_template_rows": null,
            "height": null,
            "justify_content": null,
            "justify_items": null,
            "left": null,
            "margin": null,
            "max_height": null,
            "max_width": null,
            "min_height": null,
            "min_width": null,
            "object_fit": null,
            "object_position": null,
            "order": null,
            "overflow": null,
            "overflow_x": null,
            "overflow_y": null,
            "padding": null,
            "right": null,
            "top": null,
            "visibility": null,
            "width": null
          }
        },
        "d5052a93f97746e2920eaeb79e741594": {
          "model_module": "@jupyter-widgets/controls",
          "model_name": "DescriptionStyleModel",
          "model_module_version": "1.5.0",
          "state": {
            "_model_module": "@jupyter-widgets/controls",
            "_model_module_version": "1.5.0",
            "_model_name": "DescriptionStyleModel",
            "_view_count": null,
            "_view_module": "@jupyter-widgets/base",
            "_view_module_version": "1.2.0",
            "_view_name": "StyleView",
            "description_width": ""
          }
        }
      }
    }
  },
  "cells": [
    {
      "cell_type": "markdown",
      "metadata": {
        "id": "view-in-github",
        "colab_type": "text"
      },
      "source": [
        "<a href=\"https://colab.research.google.com/github/keyanUB/cuadvancelab.github.io/blob/main/instructions/lab2/computer-sciencelab2_interactive.ipynb\" target=\"_parent\"><img src=\"https://colab.research.google.com/assets/colab-badge.svg\" alt=\"Open In Colab\"/></a>"
      ]
    },
    {
      "cell_type": "markdown",
      "source": [
        "# Lab 2 AI for Multimodal Cyberharassment Detection\n",
        "\n"
      ],
      "metadata": {
        "id": "zCxQyK2g_2Jj"
      }
    },
    {
      "cell_type": "markdown",
      "source": [
        "With previous lab learning, you should have some knowledge about how to develop an AI model to detect cyberbullying lauguage. In this lab, we will keep learning how AI can be developed to detect cyberbullying. We will use a publicly available test dataset of cyberbullying images, and deploy an pre-trained AI model to automatically detect cyberbullying images. \n",
        "Approach towards analysing the cyber bullying in images in a dataset, there are three steps: \n",
        "1. Understand and identify the factors related to cyberbullying in images. \n",
        "2. Extract those factors from images.\n",
        "3. Examine the usage of those factors in classifier models"
      ],
      "metadata": {
        "id": "t9ZCA9FpFasW"
      }
    },
    {
      "cell_type": "markdown",
      "source": [
        "## Download the pre-trained model, test dataset and the dependencies"
      ],
      "metadata": {
        "id": "lR_dMOJ3HJ21"
      }
    },
    {
      "cell_type": "markdown",
      "source": [
        "First, we need to download the pre-trained model and the test dataset used in the lab. Just hit the 'play' button run the code below."
      ],
      "metadata": {
        "id": "NuE3371lG783"
      }
    },
    {
      "cell_type": "code",
      "source": [
        " # download the model and dataset\n",
        "!wget -O auxes_17.pt https://buffalo.box.com/shared/static/cjk39hq7prpwj2rkqz6lc2jr6q2h5shy.pt\n",
        "!wget -O cyberbullying_data.zip https://buffalo.box.com/shared/static/bxfnnz2ln9gmzoojxs4nuafzhqildnvi.zip"
      ],
      "metadata": {
        "colab": {
          "base_uri": "https://localhost:8080/"
        },
        "id": "Er3ZmAJoRZcL",
        "outputId": "293b2d60-0c35-4e8d-d860-103fd5165c61"
      },
      "execution_count": null,
      "outputs": [
        {
          "output_type": "stream",
          "name": "stdout",
          "text": [
            "--2022-10-11 13:29:28--  https://buffalo.box.com/shared/static/cjk39hq7prpwj2rkqz6lc2jr6q2h5shy.pt\n",
            "Resolving buffalo.box.com (buffalo.box.com)... 74.112.186.144\n",
            "Connecting to buffalo.box.com (buffalo.box.com)|74.112.186.144|:443... connected.\n",
            "HTTP request sent, awaiting response... 301 Moved Permanently\n",
            "Location: /public/static/cjk39hq7prpwj2rkqz6lc2jr6q2h5shy.pt [following]\n",
            "--2022-10-11 13:29:28--  https://buffalo.box.com/public/static/cjk39hq7prpwj2rkqz6lc2jr6q2h5shy.pt\n",
            "Reusing existing connection to buffalo.box.com:443.\n",
            "HTTP request sent, awaiting response... 301 Moved Permanently\n",
            "Location: https://buffalo.app.box.com/public/static/cjk39hq7prpwj2rkqz6lc2jr6q2h5shy.pt [following]\n",
            "--2022-10-11 13:29:28--  https://buffalo.app.box.com/public/static/cjk39hq7prpwj2rkqz6lc2jr6q2h5shy.pt\n",
            "Resolving buffalo.app.box.com (buffalo.app.box.com)... 74.112.186.144\n",
            "Connecting to buffalo.app.box.com (buffalo.app.box.com)|74.112.186.144|:443... connected.\n",
            "HTTP request sent, awaiting response... 302 Found\n",
            "Location: https://dl2.boxcloud.com/d/1/b1!N7BOur1iboxHldYm_k1BzU02NW5bsDbzB2NuOBL0NRJsqy6Sh-A5k0S5GuLWkjghUsZumNSGmuocnyuxkQcSmC_qZJwlHYw6zFDEP7UNTYqdw2ynltNRONKvx97BqEPt5uwEqU4Rh2iV1Wfn6ND3pDcgSCAMQpXLtzAu1QSizxSI-MdmmDtM0OXljTqqCN5mVKPScpnD_NAXjEsd9l1hZXusi_17Z9xxoomq1_4koQK7u-kudXcDwC3q7m-5SGqp_XH7-TDl_ULt3N0xvzs9pfB1rYsRMCop02klSOwlttZR_NPnrtuEtAN-23qkr0w4SwOQTTjgrWdAgOJo5U6vbBcnhuR8rHflYCQ1NEGZZdioVDiESMyPYhQ9-yPawFPBFrsnNH4LXjQsKWgWaT_dzevMHucB5Smpyo_P7G_rSd4Lrpnule4jaDmnTOzIvrWxZbmjx8mYTXd70Via8PRYQ6g1KNl2Rqyj56CRkhzWlNjhcLstXKqUq-RrgHVpbjdEZWKAnEupzrnnNvRGijMXtZ9w5ZBD-gGhTBFjsi5cq24H2333eq6iXr3Jt20RrCRgUnr91B8bQbpZCKhpfXO4692dTIsjP5Dze33w3CscpV7A6Ey3SDWzgy5zt9X5r4LHs5n8xWK2Nq2bGNbSuoz2jKuRQwBvSvGIJtr4biQtF8FulDxeLngAsA9AR32fv_5DovVmu7FvnmV2IEwmHxMcQX4_jDh1jjMlKO9q4tFV1IJsaHlkT7I0Qz2qGrCt2zSPiJxUA4CDEzJwVHrT1ckLJEtQ_lq53tsj1s91aebqczLt5EUltuYF6P0HStDm4FgFP66F86wGmnAxls8BACUpoOdmw4Nao4Y9fXzlEVLrErh0n9eXI-OsJnXht2uXb_Fckdq5BOFPgYVuUs1Pjp2wwwAo0DrIgSHahQZ9_dT2aY1FeR4ymE5My4J0eSIMLq7qYlWBFQf2BIkYGVTATiAQwqzivLUrtw5IAWZDzaB6HdvDfKc9quqh2hA1nj8ZyArfUxk76_O21PQJGP7ZKHOvt5-kHaBdc8XqJWEFit2-BwLm1R0HCpY8elkfiOBYiNzOlYvlZz_yPW5ywsX7mU27KOT0ZqMS_qFc17qOe1H4AKwFUJJZFwTCP_gHvXqJpwGpEkNjOkW131djSiWHrmEM8TZaC78a83FFqnvq6yb-i2NPfG7Dh51EWzZJMZr4cKG6u7qrhBZw3yAUFgfgjgndThm8M2nrIWbauVcdXZFBsg6dqPwMgyRNGOhW04xv8P9LwjnncsbLxP70IWzt-PGsoyxmwPtBzKEs6J7aA8GCPT407GkQ_pINyvHatF9spLtUR3i6BlWSZhp57JqY-u8i0IHijwLgJbpLlBz6naAJXJWxuvor4OJnT-5QP68Ab0RAoG6MQknocmdfwfdL9KQlYc8./download [following]\n",
            "--2022-10-11 13:29:29--  https://dl2.boxcloud.com/d/1/b1!N7BOur1iboxHldYm_k1BzU02NW5bsDbzB2NuOBL0NRJsqy6Sh-A5k0S5GuLWkjghUsZumNSGmuocnyuxkQcSmC_qZJwlHYw6zFDEP7UNTYqdw2ynltNRONKvx97BqEPt5uwEqU4Rh2iV1Wfn6ND3pDcgSCAMQpXLtzAu1QSizxSI-MdmmDtM0OXljTqqCN5mVKPScpnD_NAXjEsd9l1hZXusi_17Z9xxoomq1_4koQK7u-kudXcDwC3q7m-5SGqp_XH7-TDl_ULt3N0xvzs9pfB1rYsRMCop02klSOwlttZR_NPnrtuEtAN-23qkr0w4SwOQTTjgrWdAgOJo5U6vbBcnhuR8rHflYCQ1NEGZZdioVDiESMyPYhQ9-yPawFPBFrsnNH4LXjQsKWgWaT_dzevMHucB5Smpyo_P7G_rSd4Lrpnule4jaDmnTOzIvrWxZbmjx8mYTXd70Via8PRYQ6g1KNl2Rqyj56CRkhzWlNjhcLstXKqUq-RrgHVpbjdEZWKAnEupzrnnNvRGijMXtZ9w5ZBD-gGhTBFjsi5cq24H2333eq6iXr3Jt20RrCRgUnr91B8bQbpZCKhpfXO4692dTIsjP5Dze33w3CscpV7A6Ey3SDWzgy5zt9X5r4LHs5n8xWK2Nq2bGNbSuoz2jKuRQwBvSvGIJtr4biQtF8FulDxeLngAsA9AR32fv_5DovVmu7FvnmV2IEwmHxMcQX4_jDh1jjMlKO9q4tFV1IJsaHlkT7I0Qz2qGrCt2zSPiJxUA4CDEzJwVHrT1ckLJEtQ_lq53tsj1s91aebqczLt5EUltuYF6P0HStDm4FgFP66F86wGmnAxls8BACUpoOdmw4Nao4Y9fXzlEVLrErh0n9eXI-OsJnXht2uXb_Fckdq5BOFPgYVuUs1Pjp2wwwAo0DrIgSHahQZ9_dT2aY1FeR4ymE5My4J0eSIMLq7qYlWBFQf2BIkYGVTATiAQwqzivLUrtw5IAWZDzaB6HdvDfKc9quqh2hA1nj8ZyArfUxk76_O21PQJGP7ZKHOvt5-kHaBdc8XqJWEFit2-BwLm1R0HCpY8elkfiOBYiNzOlYvlZz_yPW5ywsX7mU27KOT0ZqMS_qFc17qOe1H4AKwFUJJZFwTCP_gHvXqJpwGpEkNjOkW131djSiWHrmEM8TZaC78a83FFqnvq6yb-i2NPfG7Dh51EWzZJMZr4cKG6u7qrhBZw3yAUFgfgjgndThm8M2nrIWbauVcdXZFBsg6dqPwMgyRNGOhW04xv8P9LwjnncsbLxP70IWzt-PGsoyxmwPtBzKEs6J7aA8GCPT407GkQ_pINyvHatF9spLtUR3i6BlWSZhp57JqY-u8i0IHijwLgJbpLlBz6naAJXJWxuvor4OJnT-5QP68Ab0RAoG6MQknocmdfwfdL9KQlYc8./download\n",
            "Resolving dl2.boxcloud.com (dl2.boxcloud.com)... 74.112.186.130\n",
            "Connecting to dl2.boxcloud.com (dl2.boxcloud.com)|74.112.186.130|:443... connected.\n",
            "HTTP request sent, awaiting response... 200 OK\n",
            "Length: 742758003 (708M) [application/octet-stream]\n",
            "Saving to: ‘auxes_17.pt’\n",
            "\n",
            "auxes_17.pt         100%[===================>] 708.35M  13.9MB/s    in 56s     \n",
            "\n",
            "2022-10-11 13:30:25 (12.7 MB/s) - ‘auxes_17.pt’ saved [742758003/742758003]\n",
            "\n",
            "--2022-10-11 13:30:25--  https://buffalo.box.com/shared/static/bxfnnz2ln9gmzoojxs4nuafzhqildnvi.zip\n",
            "Resolving buffalo.box.com (buffalo.box.com)... 74.112.186.144\n",
            "Connecting to buffalo.box.com (buffalo.box.com)|74.112.186.144|:443... connected.\n",
            "HTTP request sent, awaiting response... 301 Moved Permanently\n",
            "Location: /public/static/bxfnnz2ln9gmzoojxs4nuafzhqildnvi.zip [following]\n",
            "--2022-10-11 13:30:25--  https://buffalo.box.com/public/static/bxfnnz2ln9gmzoojxs4nuafzhqildnvi.zip\n",
            "Reusing existing connection to buffalo.box.com:443.\n",
            "HTTP request sent, awaiting response... 301 Moved Permanently\n",
            "Location: https://buffalo.app.box.com/public/static/bxfnnz2ln9gmzoojxs4nuafzhqildnvi.zip [following]\n",
            "--2022-10-11 13:30:25--  https://buffalo.app.box.com/public/static/bxfnnz2ln9gmzoojxs4nuafzhqildnvi.zip\n",
            "Resolving buffalo.app.box.com (buffalo.app.box.com)... 74.112.186.144\n",
            "Connecting to buffalo.app.box.com (buffalo.app.box.com)|74.112.186.144|:443... connected.\n",
            "HTTP request sent, awaiting response... 302 Found\n",
            "Location: https://dl2.boxcloud.com/d/1/b1!MoN3sKgjtoltwIzW2-exzLUGhRApBpJ_Ab_79kjoF3wWATbMTMPqyqJVhgyEc4kgtkdzFs6ED7HEPSB26Smu8WONNWlgcA7xYop4QYk-qzAlcEFdW7IanNiBDVIL4wYEkr3WEYEsr9H97QkA9VlFoXrpApEgbdXkDm3Na4OzA9wZoKjYO84E0mppu6XwT0g3Fme82lagEN-C0GboZEu2UkvvJWtF3Z8g1k_0p9d_cHII2wc271OTtchtl3CxfTsLej-A1pcP2WFVtrmTIffY58BoDEG3zlFNRLPQ_E7R9bhhWA9H67tkufzKh5CotrZAUrBfJ0abX7Dp5UwZAj5sohJtaZRc-DK3gwMauCifQynQMK2qIY_4s6AtG1G1Lt53elepjo4_vTyZpi7YV78lWQiGA-VwxSHPF7IwBztPEBc7yU83XFqFV2l1UB39JCGrAs4GDT_EfmalrTPpDo5lXyp7ZWQ8tvycMMulkebNMNTH0B5YNiTVxKt9fp62XPPF2S1oa094McyJWt_8kYfmX4pAk7JgUgzWBEtlP6FRj2DTiSa9-cplb6a_Shye8Lh_5StJbBtVaHLjgVSi2vkiiTpCvfCKa22dHNKpYwn3YLs_XaqveviDyO2F37Z_30CvxjtDEMFzqYol_WldLrXxTkoZ2o1d5t5ZkO_QNp28zqGx_b6WLi7GfPmRAtxQ83-687ipSXGk4h0Rwilj9yO3Is48jcnf_C4rqVXRbJ7iWFcQocsJBX6vXo-vyqKeFqOifxkh-SeyGj6YcEzdsWG1ZEJIz4nIASV63R6-fjgMIB27H1J06yJiqlCEIl6ZitDlu_nF-n8UO6xwskaFfDtXgMQibqlwXBOQL2im1T0B33RRHnIX8nRyaa9qE16c-I2JBLwojDu-Sxm0Y4iWD9dVbqWDLYT_QV_4MVUXDlQai6wERZpazObn4H-QLBCZkmB7gR5aqyE9cxNqCf7YA0xv4NX3eIcqrzigu4xWY5xHf7NkxtpwuMqiAi5vlsjjkB4d1TPBrDjLEA0oe9vmrIb_e-Pykm7AOPwL24syFmF4sOc87_1X_r840_9nEoX3ntqzPPG14Hy-XYKTYz7FB_z2CZIdi--56MztIKVeOpAOnzk8zIJUkbpXklUCMaPN10PNMWccWNGZwURct3EDYHzEiWXFhRC4Xh2CTnYqEUsn3siBxI9QAJZaPxsGyTebt-pGb5_ViJabBQdkdN-JRkXpLxEO1kAlndeujcbY6QhOQHiZe1rZ9yz7yjfJV7nQZkSrymLKrRwbvdDXFskYQcKTbUL23MZMWZTUJAT9E-Lm37vpkeq27fJHJtxUWSuHVqo9bMW6DF36rA0-GJpYkvOe6-avygK32UGtQkXzLVf7SjGsW0Rt63w./download [following]\n",
            "--2022-10-11 13:30:26--  https://dl2.boxcloud.com/d/1/b1!MoN3sKgjtoltwIzW2-exzLUGhRApBpJ_Ab_79kjoF3wWATbMTMPqyqJVhgyEc4kgtkdzFs6ED7HEPSB26Smu8WONNWlgcA7xYop4QYk-qzAlcEFdW7IanNiBDVIL4wYEkr3WEYEsr9H97QkA9VlFoXrpApEgbdXkDm3Na4OzA9wZoKjYO84E0mppu6XwT0g3Fme82lagEN-C0GboZEu2UkvvJWtF3Z8g1k_0p9d_cHII2wc271OTtchtl3CxfTsLej-A1pcP2WFVtrmTIffY58BoDEG3zlFNRLPQ_E7R9bhhWA9H67tkufzKh5CotrZAUrBfJ0abX7Dp5UwZAj5sohJtaZRc-DK3gwMauCifQynQMK2qIY_4s6AtG1G1Lt53elepjo4_vTyZpi7YV78lWQiGA-VwxSHPF7IwBztPEBc7yU83XFqFV2l1UB39JCGrAs4GDT_EfmalrTPpDo5lXyp7ZWQ8tvycMMulkebNMNTH0B5YNiTVxKt9fp62XPPF2S1oa094McyJWt_8kYfmX4pAk7JgUgzWBEtlP6FRj2DTiSa9-cplb6a_Shye8Lh_5StJbBtVaHLjgVSi2vkiiTpCvfCKa22dHNKpYwn3YLs_XaqveviDyO2F37Z_30CvxjtDEMFzqYol_WldLrXxTkoZ2o1d5t5ZkO_QNp28zqGx_b6WLi7GfPmRAtxQ83-687ipSXGk4h0Rwilj9yO3Is48jcnf_C4rqVXRbJ7iWFcQocsJBX6vXo-vyqKeFqOifxkh-SeyGj6YcEzdsWG1ZEJIz4nIASV63R6-fjgMIB27H1J06yJiqlCEIl6ZitDlu_nF-n8UO6xwskaFfDtXgMQibqlwXBOQL2im1T0B33RRHnIX8nRyaa9qE16c-I2JBLwojDu-Sxm0Y4iWD9dVbqWDLYT_QV_4MVUXDlQai6wERZpazObn4H-QLBCZkmB7gR5aqyE9cxNqCf7YA0xv4NX3eIcqrzigu4xWY5xHf7NkxtpwuMqiAi5vlsjjkB4d1TPBrDjLEA0oe9vmrIb_e-Pykm7AOPwL24syFmF4sOc87_1X_r840_9nEoX3ntqzPPG14Hy-XYKTYz7FB_z2CZIdi--56MztIKVeOpAOnzk8zIJUkbpXklUCMaPN10PNMWccWNGZwURct3EDYHzEiWXFhRC4Xh2CTnYqEUsn3siBxI9QAJZaPxsGyTebt-pGb5_ViJabBQdkdN-JRkXpLxEO1kAlndeujcbY6QhOQHiZe1rZ9yz7yjfJV7nQZkSrymLKrRwbvdDXFskYQcKTbUL23MZMWZTUJAT9E-Lm37vpkeq27fJHJtxUWSuHVqo9bMW6DF36rA0-GJpYkvOe6-avygK32UGtQkXzLVf7SjGsW0Rt63w./download\n",
            "Resolving dl2.boxcloud.com (dl2.boxcloud.com)... 74.112.186.130\n",
            "Connecting to dl2.boxcloud.com (dl2.boxcloud.com)|74.112.186.130|:443... connected.\n",
            "HTTP request sent, awaiting response... 200 OK\n",
            "Length: 416526 (407K) [application/zip]\n",
            "Saving to: ‘cyberbullying_data.zip’\n",
            "\n",
            "cyberbullying_data. 100%[===================>] 406.76K  --.-KB/s    in 0.03s   \n",
            "\n",
            "2022-10-11 13:30:27 (13.0 MB/s) - ‘cyberbullying_data.zip’ saved [416526/416526]\n",
            "\n"
          ]
        }
      ]
    },
    {
      "cell_type": "code",
      "source": [
        "# unzip the test data\n",
        "%%capture\n",
        "!unzip \"/content/cyberbullying_data.zip\" -d \"/content\""
      ],
      "metadata": {
        "id": "ybkEIhE6B4Kx"
      },
      "execution_count": null,
      "outputs": []
    },
    {
      "cell_type": "markdown",
      "source": [
        "Let's import all our softwares dependencies in our iPython notebook"
      ],
      "metadata": {
        "id": "Ytz-y70fHfqd"
      }
    },
    {
      "cell_type": "code",
      "source": [
        "import torch\n",
        "import torchvision\n",
        "import torch.nn as nn\n",
        "import torch.nn.functional as F\n",
        "from torch import optim\n",
        "import torch.utils.data as data_utils\n",
        "import torchvision.transforms as transforms\n",
        "from torchvision import models\n",
        "from torch.optim.lr_scheduler import ReduceLROnPlateau\n",
        "from torch.utils.data import Dataset, DataLoader"
      ],
      "metadata": {
        "id": "-Co9BU-xoIBr"
      },
      "execution_count": null,
      "outputs": []
    },
    {
      "cell_type": "code",
      "source": [
        "import pickle\n",
        "import gzip\n",
        "import sys\n",
        "import time\n",
        "import numpy as np\n",
        "import math\n",
        "import os\n",
        "import random\n",
        "from skimage import io, transform"
      ],
      "metadata": {
        "id": "KehdlyFsoIPQ"
      },
      "execution_count": null,
      "outputs": []
    },
    {
      "cell_type": "markdown",
      "source": [
        "## Load datasets"
      ],
      "metadata": {
        "id": "leCI51YW7UfE"
      }
    },
    {
      "cell_type": "markdown",
      "source": [
        "Now, let's run the subsequent codes to load your data from a predefined\n",
        "class"
      ],
      "metadata": {
        "id": "iH_eewicHqlb"
      }
    },
    {
      "cell_type": "code",
      "source": [
        "class PosesDataset(Dataset):\n",
        "\n",
        "  def __init__(self, root_dir, poses_dir, auxes_dir):\n",
        "\n",
        "    self.samples = []\n",
        "    self.root_dir = root_dir\n",
        "    self.poses_dir = poses_dir\n",
        "    self.auxes_dir = auxes_dir\n",
        "\n",
        "    for _, _, cb_images in os.walk(self.root_dir + 'cyberbullying'): break\n",
        "    for _, _, non_cb_images in os.walk(self.root_dir + 'non_cyberbullying'): break\n",
        "    for _, _, cb_poses in os.walk(self.poses_dir + 'cyberbullying'): break\n",
        "    for _, _, non_cb_poses in os.walk(self.poses_dir + 'non_cyberbullying'): break\n",
        "\n",
        "    for i in cb_images:\n",
        "      self.samples.append((self.root_dir + 'cyberbullying/' + i, self.poses_dir + 'cyberbullying/' + i, self.auxes_dir + 'cyberbullying/' + i, 1))  \n",
        "\n",
        "    for i in non_cb_images:\n",
        "      self.samples.append((self.root_dir + 'non_cyberbullying/' + i, self.poses_dir + 'non_cyberbullying/' + i, self.auxes_dir + 'non_cyberbullying/' + i, 0))\n",
        "\n",
        "\n",
        "  def __len__(self):\n",
        "    return len(self.samples)\n",
        "\n",
        "  def __getitem__(self, idx):\n",
        "    if torch.is_tensor(idx):\n",
        "      idx = idx.tolist()\n",
        "\n",
        "    img_name, pose_name, aux_name, label = self.samples[idx]\n",
        "    image = io.imread(img_name)\n",
        "\n",
        "    aux = pickle.load(open(aux_name + '.p', 'rb'))\n",
        "    aux = torch.tensor(aux)\n",
        "    \n",
        "    if image.shape == (224, 224): \n",
        "      # handle grayscale images   \n",
        "      image = np.stack([image, image, image], axis=2)\n",
        "\n",
        "    if image.shape == (224, 224, 4):\n",
        "      image = image[:,:,:3]\n",
        "\n",
        "    image = image.transpose((2, 0, 1)) # C X H X W\n",
        "    pose = io.imread(pose_name)\n",
        "    if pose.shape != (224, 224):\n",
        "      pose = pose[:,:,0]\n",
        "    pose = np.expand_dims(pose, axis = 0)\n",
        "    image = np.concatenate((image, pose), axis = 0)\n",
        "    sample = {'image': torch.from_numpy(image.copy()).float() / 255, 'aux': aux, 'label': label}\n",
        "    return sample"
      ],
      "metadata": {
        "id": "CROpOz3boJup"
      },
      "execution_count": null,
      "outputs": []
    },
    {
      "cell_type": "code",
      "source": [
        "valid_set = PosesDataset('cyberbullying_data/cyberbullying_data_splits_clean/test/', 'cyberbullying_data/cyberbullying_poses/test/', 'cyberbullying_data/cyberbullying_data_auxes/test/')\n",
        "valid_loader = torch.utils.data.DataLoader(valid_set, batch_size = 1, shuffle = True)"
      ],
      "metadata": {
        "id": "GyJIDz2-oMLl"
      },
      "execution_count": null,
      "outputs": []
    },
    {
      "cell_type": "markdown",
      "source": [
        "## Load pre-trained AI model"
      ],
      "metadata": {
        "id": "kAKtA3rj7c_s"
      }
    },
    {
      "cell_type": "markdown",
      "source": [
        "We will use GPU to test our AI if it is available."
      ],
      "metadata": {
        "id": "B0uFHmzNH6P1"
      }
    },
    {
      "cell_type": "code",
      "source": [
        "device = torch.device('cuda:0' if torch.cuda.is_available() else 'cpu')"
      ],
      "metadata": {
        "id": "LB-maxBGoOms",
        "colab": {
          "base_uri": "https://localhost:8080/",
          "height": 156,
          "referenced_widgets": [
            "e4e023d2d0cf467a995c20af20fa281f",
            "0809cc9835c042579294b482d5d0c6f9",
            "e06e72dd971a4a1886e0f9739fb10f62",
            "c454fd467734496898742c32637f1579",
            "42f603ddfb0944e4aa2e39303f810e08",
            "5905634bdea949a29a0c4baa2145e538",
            "96647777d3b041c89bd44baa8f705e6b",
            "2d3b2b37fb72431a82b88a3821dc5a04",
            "0decefc2102f46b3a2bc91139697fdaa",
            "9ed9f1bbb8b842b88107739d72a54008",
            "d5052a93f97746e2920eaeb79e741594"
          ]
        },
        "outputId": "03c49922-d5fe-41e1-c3c9-9d65efae2b70"
      },
      "execution_count": null,
      "outputs": [
        {
          "output_type": "stream",
          "name": "stderr",
          "text": [
            "/usr/local/lib/python3.7/dist-packages/torchvision/models/_utils.py:209: UserWarning: The parameter 'pretrained' is deprecated since 0.13 and will be removed in 0.15, please use 'weights' instead.\n",
            "  f\"The parameter '{pretrained_param}' is deprecated since 0.13 and will be removed in 0.15, \"\n",
            "/usr/local/lib/python3.7/dist-packages/torchvision/models/_utils.py:223: UserWarning: Arguments other than a weight enum or `None` for 'weights' are deprecated since 0.13 and will be removed in 0.15. The current behavior is equivalent to passing `weights=VGG16_Weights.IMAGENET1K_V1`. You can also use `weights=VGG16_Weights.DEFAULT` to get the most up-to-date weights.\n",
            "  warnings.warn(msg)\n",
            "Downloading: \"https://download.pytorch.org/models/vgg16-397923af.pth\" to /root/.cache/torch/hub/checkpoints/vgg16-397923af.pth\n"
          ]
        },
        {
          "output_type": "display_data",
          "data": {
            "text/plain": [
              "  0%|          | 0.00/528M [00:00<?, ?B/s]"
            ],
            "application/vnd.jupyter.widget-view+json": {
              "version_major": 2,
              "version_minor": 0,
              "model_id": "e4e023d2d0cf467a995c20af20fa281f"
            }
          },
          "metadata": {}
        }
      ]
    },
    {
      "cell_type": "markdown",
      "source": [
        "Let's load the pre-trained model to test its capability"
      ],
      "metadata": {
        "id": "1G3SH9p8ILmd"
      }
    },
    {
      "cell_type": "code",
      "source": [
        "# load vgg16 pre-trained model\n",
        "orig = models.vgg16(pretrained = True)"
      ],
      "metadata": {
        "id": "qSoMmCwNIJ4R"
      },
      "execution_count": null,
      "outputs": []
    },
    {
      "cell_type": "code",
      "source": [
        "class CB(nn.Module):\n",
        "  def __init__(self):\n",
        "    super(CB, self).__init__()\n",
        "    self.conv1 = nn.Conv2d(4, 3, 1)\n",
        "    self.f = nn.Sequential(*list(orig.features.children()))\n",
        "    self.avgpool = nn.AdaptiveAvgPool2d((7, 7))\n",
        "    self.aux_classifier = nn.Sequential(\n",
        "      nn.Linear(25097, 1024),\n",
        "      nn.ReLU(),\n",
        "      nn.Linear(1024, 25088),\n",
        "      nn.ReLU()  \n",
        "    )   \n",
        "    self.classifier = nn.Sequential(*list(orig.classifier.children()))\n",
        "    self.classifier[-1] = nn.Linear(4096, 2)\n",
        "    self.sig = nn.Sigmoid()\n",
        " \n",
        "  def forward(self, x, aux):\n",
        "    x = self.conv1(x) \n",
        "    x = self.f(x)\n",
        "    x = self.avgpool(x)\n",
        "    x = torch.flatten(x, 1) \n",
        "    x = torch.cat((x, aux), dim = 1)\n",
        "    x = self.aux_classifier(x)\n",
        "    x = self.classifier(x)\n",
        "    x = self.sig(x) \n",
        "\n",
        "\n",
        "    return x\n"
      ],
      "metadata": {
        "id": "hH7zjEWzoV_6"
      },
      "execution_count": null,
      "outputs": []
    },
    {
      "cell_type": "markdown",
      "source": [
        "Pass the pre-trained checkpoints to the VGG model so that you can have our pre-trained model"
      ],
      "metadata": {
        "id": "YijTxNzIIgeO"
      }
    },
    {
      "cell_type": "code",
      "source": [
        "model = torch.load(\"auxes_17.pt\")\n",
        "model.to(device)\n",
        "\n",
        "criterion = nn.CrossEntropyLoss()\n",
        "\n",
        "running_loss = []\n",
        "correct, incorrect, total = 0., 0., 0."
      ],
      "metadata": {
        "id": "PJyl75SEoYAg"
      },
      "execution_count": null,
      "outputs": []
    },
    {
      "cell_type": "markdown",
      "source": [
        "## Generate the detection resuls for validation data"
      ],
      "metadata": {
        "id": "OquLZfQh7sfr"
      }
    },
    {
      "cell_type": "markdown",
      "source": [
        "Now, it's time to evaulate the pre-trained model's capability with our test dataset"
      ],
      "metadata": {
        "id": "SnK2dbcDJCKB"
      }
    },
    {
      "cell_type": "code",
      "source": [
        "with torch.no_grad():\n",
        "  for i_v, data_v in enumerate(valid_loader):\n",
        "    x_valid, y_valid, aux_valid = data_v['image'], data_v['label'], data_v['aux']\n",
        "    x_valid, y_valid, aux_valid = x_valid.to(device), y_valid.to(device, dtype = torch.long), aux_valid.to(device, dtype = torch.float)\n",
        "    y_valid_ = model(x_valid, aux_valid)\n",
        "    running_loss.append(criterion(y_valid_, y_valid))\n",
        "    _, predicted = torch.max(y_valid_.data, 1)\n",
        "    total += y_valid.size(0)\n",
        "    correct += (predicted == y_valid).sum().item() \n",
        "\n",
        "print('Val loss is: {:.3f}'.format((sum(running_loss) / len(running_loss)).item()))\n",
        "print('The accuracy for validation dataset is: {}%'.format((correct / total) * 100))\n"
      ],
      "metadata": {
        "id": "rw8zw7ppoZTI",
        "colab": {
          "base_uri": "https://localhost:8080/"
        },
        "outputId": "7b60b3ce-d3d4-4cc1-81c8-d6ad98f28c4c"
      },
      "execution_count": null,
      "outputs": [
        {
          "output_type": "stream",
          "name": "stdout",
          "text": [
            "Val loss is: 0.463\n",
            "The accuracy for validation dataset is: 85.0%\n"
          ]
        }
      ]
    },
    {
      "cell_type": "markdown",
      "source": [
        "## Let's check with one instance"
      ],
      "metadata": {
        "id": "OWI-fdPuBjeL"
      }
    },
    {
      "cell_type": "markdown",
      "source": [
        "To better understand the performance, you can try to visualize one instance in the dataset"
      ],
      "metadata": {
        "id": "TvZeIcxYJPgu"
      }
    },
    {
      "cell_type": "code",
      "source": [
        "# random select an instance in validation dataset\n",
        "random_index = random.randrange(len(valid_set))\n",
        "instance = valid_set[random_index]"
      ],
      "metadata": {
        "id": "hSuUjwU3AL3d"
      },
      "execution_count": null,
      "outputs": []
    },
    {
      "cell_type": "code",
      "source": [
        "# plot the image\n",
        "import matplotlib.pyplot as plt\n",
        "import matplotlib.image as mpimg\n",
        "img = mpimg.imread(valid_set.samples[random_index][0])\n",
        "imgplot = plt.imshow(img)\n",
        "plt.show()\n",
        "annot_label = \"cyberbullying\" if valid_set[random_index]['label']==1 else \"non-cyberbullying\"\n",
        "print(\"The label of this image is: {}\".format(annot_label))"
      ],
      "metadata": {
        "colab": {
          "base_uri": "https://localhost:8080/",
          "height": 286
        },
        "id": "eE0MVD6RDeZh",
        "outputId": "f698c22c-dea2-43d1-949b-ce9047c5f717"
      },
      "execution_count": null,
      "outputs": [
        {
          "output_type": "display_data",
          "data": {
            "text/plain": [
              "<Figure size 432x288 with 1 Axes>"
            ],
            "image/png": "[encoded data removed]"
          },
          "metadata": {
            "needs_background": "light"
          }
        },
        {
          "output_type": "stream",
          "name": "stdout",
          "text": [
            "The label of this image is: non-cyberbullying\n"
          ]
        }
      ]
    },
    {
      "cell_type": "markdown",
      "source": [
        "Run the following code cell to check the AI's prediction"
      ],
      "metadata": {
        "id": "Tt5bRKBbJx27"
      }
    },
    {
      "cell_type": "code",
      "source": [
        "from numpy.ma.core import outerproduct\n",
        "# check if the prediction is correct\n",
        "instance_image, instance_label, instance_aux = instance['image'].to(device), torch.tensor(instance['label']).to(device, dtype = torch.long), instance['aux'].to(device, dtype = torch.float)\n",
        "\n",
        "output = model(instance_image.unsqueeze(0), instance_aux.unsqueeze(0)).data\n",
        "_, prediction = torch.max(output.data, 1)\n",
        "predict_label = \"cyberbullying\" if prediction.item()==1 else \"non-cyberbullying\"\n",
        "comparision = \"correct\" if prediction==instance_label else \"not correct\"\n",
        "\n",
        "print(\"The AI prediction for this image is: {}, which is {}!\".format(annot_label, comparision))"
      ],
      "metadata": {
        "colab": {
          "base_uri": "https://localhost:8080/"
        },
        "id": "gfeLR_pB_pb5",
        "outputId": "150d97c3-8729-4a67-f26e-388d253f432e"
      },
      "execution_count": null,
      "outputs": [
        {
          "output_type": "stream",
          "name": "stdout",
          "text": [
            "The AI prediction for this image is: non-cyberbullying, which is correct!\n"
          ]
        }
      ]
    },
    {
      "cell_type": "code",
      "source": [],
      "metadata": {
        "id": "To9mbrVMTOpJ"
      },
      "execution_count": null,
      "outputs": []
    }
  ]
}